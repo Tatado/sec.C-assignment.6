{
 "cells": [
  {
   "cell_type": "code",
   "execution_count": null,
   "id": "cca70213",
   "metadata": {},
   "outputs": [],
   "source": [
    "def recur_fibo(n):  \n",
    "   if n <= 1:  \n",
    "       return n  \n",
    "   else:  \n",
    "       return(recur_fibo(n-1) + recur_fibo(n-2))  \n",
    "# take input from the user  \n",
    "nterms = int(input(\"How many terms? \"))  \n",
    "# check if the number of terms is valid  \n",
    "if nterms <= 0:  \n",
    "   print(\"Plese enter a positive integer\")  \n",
    "else:  \n",
    "   print(\"Fibonacci sequence:\")  \n",
    "   for i in range(nterms):  \n",
    "       print(recur_fibo(i))  "
   ]
  },
  {
   "cell_type": "code",
   "execution_count": null,
   "id": "04cbc6f9",
   "metadata": {},
   "outputs": [],
   "source": [
    "def recur_factorial(n):  \n",
    "   if n == 1:  \n",
    "       return n  \n",
    "   else:  \n",
    "       return n*recur_factorial(n-1)  \n",
    "# take input from the user  \n",
    "num = int(input(\"Enter a number: \"))  \n",
    "# check is the number is negative  \n",
    "if num < 0:  \n",
    "   print(\"Sorry, factorial does not exist for negative numbers\")  \n",
    "elif num == 0:  \n",
    "   print(\"The factorial of 0 is 1\")  \n",
    "else:  \n",
    "   print(\"The factorial of\",num,\"is\",recur_factorial(num))  "
   ]
  },
  {
   "cell_type": "code",
   "execution_count": null,
   "id": "6251fcbb",
   "metadata": {},
   "outputs": [],
   "source": [
    "if the_BMI <= 18.5:  \n",
    "    print(\"Oops! You are underweight.\")  \n",
    "elif the_BMI <= 24.9:  \n",
    "    print(\"Awesome! You are healthy.\")  \n",
    "elif the_BMI <= 29.9:  \n",
    "    the_print(\"Eee! You are overweight.\")  \n",
    "else:  \n",
    "    print(\"Seesh! You are obese.\")  "
   ]
  },
  {
   "cell_type": "code",
   "execution_count": null,
   "id": "aea36a91",
   "metadata": {},
   "outputs": [],
   "source": [
    "import logging\n",
    "logging.basicConfig(level=logging.INFO)\n",
    "\n",
    "def hypotenuse(a, b):\n",
    "    \"\"\"Compute the hypotenuse\"\"\"\n",
    "    return (a**2 + b**2)**0.5\n",
    "\n",
    "logging.info(\"Hypotenuse of {a}, {b} is {c}\".format(a=3, b=4, c=hypotenuse(a,b)))"
   ]
  },
  {
   "cell_type": "code",
   "execution_count": null,
   "id": "0bc99ff3",
   "metadata": {},
   "outputs": [],
   "source": [
    "def findCubeSum(n):\n",
    "    sum = 0\n",
    "    for value in range(1, n+1):\n",
    "        sum += value**3\n",
    "    return sum\n",
    "\n",
    "\n",
    "n = int(input(\"Enter the value of n : \"))\n",
    "\n",
    "print(\"Cube sum : \", findCubeSum(n))"
   ]
  }
 ],
 "metadata": {
  "kernelspec": {
   "display_name": "Python 3",
   "language": "python",
   "name": "python3"
  },
  "language_info": {
   "codemirror_mode": {
    "name": "ipython",
    "version": 3
   },
   "file_extension": ".py",
   "mimetype": "text/x-python",
   "name": "python",
   "nbconvert_exporter": "python",
   "pygments_lexer": "ipython3",
   "version": "3.8.8"
  }
 },
 "nbformat": 4,
 "nbformat_minor": 5
}
